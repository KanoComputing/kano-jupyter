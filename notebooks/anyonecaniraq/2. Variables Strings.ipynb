{
  "cells": [
    {
      "metadata": {},
      "cell_type": "markdown",
      "source": "# Lesson 2 \n# Variables \n\nToday we are going to learn more about variables! \nYou may have seen variables in other pogramming languages and if not, that is okay!\n\nVariables are things that hold the place for somethng else. You can think of it like an empty box that you put things in,  \n\nFor example, we can create a variable that will hold the place for a name\n\nHit Shift + Enter to run the code"
    },
    {
      "metadata": {
        "trusted": true
      },
      "cell_type": "code",
      "source": "name = 'Aja'",
      "execution_count": null,
      "outputs": []
    },
    {
      "metadata": {},
      "cell_type": "markdown",
      "source": "In the above we have the variable \"name.\" We can put whatever name we want. In this example I put Razan. To make the name appear we need t have the ' - '\n\nWhen we are putting letter or words for a variable we call this a string. \n\nLet's try printing the string variable. Hit Shift + Enter to run the code below"
    },
    {
      "metadata": {
        "trusted": true
      },
      "cell_type": "code",
      "source": "print(name)",
      "execution_count": null,
      "outputs": []
    },
    {
      "metadata": {},
      "cell_type": "markdown",
      "source": "We can see that the string variable is the name Razan. Why don't we change the name?\n\nIn cell In[4] go back and change the name. Remeber to keep the ' ' before and hit Shift + Enter in In[24 and In[5]\n\nYou can see that the name changes! Now we can try typing a sentence that uses that word. \n\nHit Shift + Enter to run the code below"
    },
    {
      "metadata": {
        "trusted": true
      },
      "cell_type": "code",
      "source": "print('Hello ' + name)",
      "execution_count": null,
      "outputs": []
    },
    {
      "metadata": {
        "collapsed": true
      },
      "cell_type": "markdown",
      "source": "In the above example you may notice there is a space after 'Hello ' this allows a space to appear between hello and the name.nn\n\nAs well, to add a variable you need to use a + to designte that it is a code word you are using.\n\nYou can try changing the message. Make the sentence longer in cell In[7]. For example, you could say something like:\n\n'Hello ' + name, ', how are you today?'\n\nNotice everytime I add words that are not a variable I need the ' ' before and after!\n\nTry making your own sentence below, an example is there to help. Remeber to hit Shift + Enter to run the code"
    },
    {
      "metadata": {
        "trusted": true
      },
      "cell_type": "code",
      "source": "print('Hello ' + name,', how are you today?')\n",
      "execution_count": null,
      "outputs": []
    },
    {
      "metadata": {},
      "cell_type": "markdown",
      "source": "Practice writing a few sentences using the name variable. Remeber, if you change the name ou may need to run all your code again!\n\nWanna practice more? In the cell below create your own variable and then print a sentence to the screen that uses the variable!"
    },
    {
      "metadata": {
        "trusted": true
      },
      "cell_type": "code",
      "source": "",
      "execution_count": null,
      "outputs": []
    }
  ],
  "metadata": {
    "celltoolbar": "Raw Cell Format",
    "kernelspec": {
      "name": "python3",
      "display_name": "Python 3",
      "language": "python"
    },
    "language_info": {
      "mimetype": "text/x-python",
      "nbconvert_exporter": "python",
      "name": "python",
      "file_extension": ".py",
      "version": "3.5.4",
      "pygments_lexer": "ipython3",
      "codemirror_mode": {
        "version": 3,
        "name": "ipython"
      }
    }
  },
  "nbformat": 4,
  "nbformat_minor": 2
}