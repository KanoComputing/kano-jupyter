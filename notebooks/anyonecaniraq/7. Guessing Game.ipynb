{
  "cells": [
    {
      "metadata": {},
      "cell_type": "markdown",
      "source": "# Lesson 7\n# Guessing Game \n\nLet's make a number guessing game! For this, you will have your computer generate a random number between 1 and 10. Afterwards, your program will ask the player to guess. \n\nTo play this game, we need the computer to pick a random number. To do this, we can import a program the computer already knows called **`import random`**. \n\nThis means the computer will pick a number at random given specific number set. "
    },
    {
      "metadata": {
        "trusted": true
      },
      "cell_type": "code",
      "source": "import random ",
      "execution_count": null,
      "outputs": []
    },
    {
      "metadata": {},
      "cell_type": "markdown",
      "source": "Now, we want to create a variable that will be a random number between a set of numbers. \n\nFor this game, we will set the number the computer picks to be one between 1 and 10 "
    },
    {
      "metadata": {
        "trusted": true
      },
      "cell_type": "code",
      "source": "#We create a variable to store the random number. random.randint calls on the \"random\" imported program\n#and we set the number to be between 1 and 10\nthe_number = random.randint(1, 10)",
      "execution_count": null,
      "outputs": []
    },
    {
      "metadata": {},
      "cell_type": "markdown",
      "source": "Now we need to create the main loop our game will be in. \n\nFirst, we need to create a variable that will hold the guess from the player. For this we use the below code to get a response from the player: \n\n**`int(input('Guess a number between 1 and 10))`**\n\nThe **`int`** means the response will be stored as an integer and the **`input`** means we are getting input from the player\n\nNow we can create our main game loop. We will use a **`while`** loop as we want to keep the game going **while** the user is guessing and end when they guess correctly. \n\n**A Note On the Code**\n\n!= in python means **not equal**\n\n== in python means **equal** "
    },
    {
      "metadata": {
        "trusted": true
      },
      "cell_type": "code",
      "source": "guess = int(input('Guess a number between 1 and 10'))\n\nwhile guess != the_number:\n    #if the player's guess is greater than the random number, print a statement to the player\n    if guess > the_number:\n        print(guess, \"was too high. Try again.\")\n    \n    #if the player's guess is less than the random number, print a statement to the player\n    if guess < the_number:\n        print(guess, \"was too low. Try again.\")\n        \n    #We want the player to keep guessing if they guess wrong before, so ask them again for an input \n    guess = int(input(\"Guess agai: \"))\n\n#If they guess correctly, tell them! \nprint(guess, \"was the number! You win!\")",
      "execution_count": null,
      "outputs": []
    },
    {
      "metadata": {
        "collapsed": true
      },
      "cell_type": "markdown",
      "source": "Why don't you try to modify this game? Change the random values for the variable **`the_number`** and make the game longer.\n\nAlso change the messages a player gets if they guess right or wrong. "
    },
    {
      "metadata": {
        "trusted": true
      },
      "cell_type": "code",
      "source": "",
      "execution_count": null,
      "outputs": []
    }
  ],
  "metadata": {
    "kernelspec": {
      "name": "python3",
      "display_name": "Python 3",
      "language": "python"
    },
    "language_info": {
      "mimetype": "text/x-python",
      "nbconvert_exporter": "python",
      "name": "python",
      "pygments_lexer": "ipython3",
      "version": "3.5.4",
      "file_extension": ".py",
      "codemirror_mode": {
        "version": 3,
        "name": "ipython"
      }
    }
  },
  "nbformat": 4,
  "nbformat_minor": 2
}