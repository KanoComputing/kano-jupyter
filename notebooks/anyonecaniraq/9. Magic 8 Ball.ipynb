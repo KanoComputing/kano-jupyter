{
  "cells": [
    {
      "metadata": {},
      "cell_type": "markdown",
      "source": "# Lesson 9 \n# Magic 8 Ball Game\n\nLet's make another game, a compTer that will help answer all of our questions! This program will focus on creating a list with multiple answers that the program will pick at random. \n\nAs we want to have random answers, we will need to import the random programming. "
    },
    {
      "metadata": {
        "trusted": true
      },
      "cell_type": "code",
      "source": "import random\nimport time",
      "execution_count": null,
      "outputs": []
    },
    {
      "metadata": {},
      "cell_type": "markdown",
      "source": "Now we will create a variable that will hold all the possible answers our program can pick from. \n\nWe will be creating a list that will use **`[]`** to hold all the responses. "
    },
    {
      "metadata": {
        "trusted": true
      },
      "cell_type": "code",
      "source": "answer = [\"It is certain\", \"It is decidely so\", \"Without a doubt\", \"Ask again later\"]",
      "execution_count": null,
      "outputs": []
    },
    {
      "metadata": {},
      "cell_type": "markdown",
      "source": "Now we will create something known as a **function.**\n\nFunctions are the core of computer programming. Functions enable code to be reused throughout a program to make it easier to develop and maintain our code. \n\nTo create a function you will first type **`def`** and then the name you want to give your function. For example: \n\ndef findAnswer():\n\nYou will notice that when you hit enter/return the code will become indented. This means all the code below will be in your function "
    },
    {
      "metadata": {
        "trusted": true
      },
      "cell_type": "code",
      "source": "#We create a function below called magic8Ball. This will be our main game function\ndef magic8Ball():\n    print(\"Ask me a question.\")\n    input()\n    time.sleep(2)\n    print(random.choice(answer))\n    print(\"I hope that helped!\")\n    replay()\n\n#We want a function that will ask the player if they want another prediction. This function has been added to the main \n#magic8Ball function \n\ndef replay():\n    print(\"Do you have another question? [yes/no]\")\n    reply = input()\n    if reply == \"yes\":\n        magic8Ball()\n    elif reply == \"no\":\n        exit()\n    else:\n        print(\"I apologise, I did not catch that. Please repeat.\")",
      "execution_count": null,
      "outputs": []
    },
    {
      "metadata": {
        "trusted": true
      },
      "cell_type": "code",
      "source": "#Now we want to fun the main program for the game. We will just run the function magic8Ball() \n\nmagic8Ball()",
      "execution_count": null,
      "outputs": []
    },
    {
      "metadata": {},
      "cell_type": "markdown",
      "source": "Why don't you try to modify this game? Change the possible abswers for the variable **`answer`**."
    }
  ],
  "metadata": {
    "kernelspec": {
      "name": "python3",
      "display_name": "Python 3",
      "language": "python"
    },
    "language_info": {
      "mimetype": "text/x-python",
      "nbconvert_exporter": "python",
      "name": "python",
      "pygments_lexer": "ipython3",
      "version": "3.5.4",
      "file_extension": ".py",
      "codemirror_mode": {
        "version": 3,
        "name": "ipython"
      }
    }
  },
  "nbformat": 4,
  "nbformat_minor": 2
}