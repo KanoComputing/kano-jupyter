{
  "cells": [
    {
      "metadata": {},
      "cell_type": "markdown",
      "source": "# Lesson 3 \n# Variables: Numbers\nVariables can hold the place for other things like numbers! In this notebook we can learn how storing a variable number can help us from math to games!\n\nWe already learned that variables can hold letters and words, or \"strings\" as they are called in computer science. \n\nLet's create a variable that holds a number\n\nHit Shift + Enter to run the code"
    },
    {
      "metadata": {
        "trusted": true
      },
      "cell_type": "code",
      "source": "mathFun = 2",
      "execution_count": null,
      "outputs": []
    },
    {
      "metadata": {},
      "cell_type": "markdown",
      "source": "In the above code we have a variable we call mathFun\" and it is equal to 2. Let's see if we can do some maths!\n\nLet's figure out the following:\n\n2 + 2\n\nHit Shift + Enter to run the code"
    },
    {
      "metadata": {
        "trusted": true
      },
      "cell_type": "code",
      "source": "mathFun + mathFun",
      "execution_count": null,
      "outputs": []
    },
    {
      "metadata": {},
      "cell_type": "markdown",
      "source": "What if we want to do multiplication? \n\nWe typically think 2 x 4 when we write a math problem out. For computers, the x may confuse them.\n\nInstead we use * to indicate to multiply \n\nHit Shift + Enter to run the code"
    },
    {
      "metadata": {
        "trusted": true
      },
      "cell_type": "code",
      "source": "mathFun * 4",
      "execution_count": null,
      "outputs": []
    },
    {
      "metadata": {},
      "cell_type": "markdown",
      "source": "We can also divide! Computers use the / to indicate division. \n\nWe can figure out what 34848 / 2 \n\nHit Shift + Enter to run the code"
    },
    {
      "metadata": {
        "trusted": true
      },
      "cell_type": "code",
      "source": "34848 / mathFun",
      "execution_count": null,
      "outputs": []
    },
    {
      "metadata": {},
      "cell_type": "markdown",
      "source": "Why don't you go back and change some of the numbers in the above examples? \n\nIf you change the original mathFun variable remeber to go to the first cell and hit Shift + Enter to run the code!"
    },
    {
      "metadata": {},
      "cell_type": "markdown",
      "source": "In the above example we were just using the variable to do some basic maths, but variables can be used for a lot more. \n\nSay you want to play a game and everytime the player collects an extra life their lives increases.\n\nYou do this with variables! \n\nYour code would look like the following:\n\nlives += 1\n\nThe above code is saying take the current amount of lives you have, add one more to it and it will equal your current lives."
    },
    {
      "metadata": {
        "trusted": true
      },
      "cell_type": "code",
      "source": "lives = 2 \nprint(lives)\n",
      "execution_count": null,
      "outputs": []
    },
    {
      "metadata": {
        "trusted": true
      },
      "cell_type": "code",
      "source": "lives += 1 \nprint(lives)\n",
      "execution_count": null,
      "outputs": []
    },
    {
      "metadata": {},
      "cell_type": "markdown",
      "source": "As we can see, our lives variable has changed to reflect the added life. We can do the same thing if we want to have a life taken away. \n\nSay your player falls in a hole and they lose a life. You can do the following to show a life was lost:\n\nlives -= 2\n\nIn the above we are removing a life rather than add. \n\nHit Shift + Enter to run the code"
    },
    {
      "metadata": {
        "trusted": true
      },
      "cell_type": "code",
      "source": "lives -= 2\nprint(lives)",
      "execution_count": null,
      "outputs": []
    },
    {
      "metadata": {},
      "cell_type": "markdown",
      "source": "Try it out yourself. Try changing the values for some of the numbers to see how the variable changes. \n\nRemeber to use proper syntax and to Hit Shift + Enter to run the code!"
    }
  ],
  "metadata": {
    "kernelspec": {
      "name": "python3",
      "display_name": "Python 3",
      "language": "python"
    },
    "language_info": {
      "mimetype": "text/x-python",
      "nbconvert_exporter": "python",
      "name": "python",
      "pygments_lexer": "ipython3",
      "version": "3.5.4",
      "file_extension": ".py",
      "codemirror_mode": {
        "version": 3,
        "name": "ipython"
      }
    }
  },
  "nbformat": 4,
  "nbformat_minor": 2
}