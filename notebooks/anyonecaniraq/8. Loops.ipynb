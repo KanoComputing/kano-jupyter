{
  "cells": [
    {
      "metadata": {
        "collapsed": true
      },
      "cell_type": "markdown",
      "source": "# Lesson 8 \n# Loops  \n\nSo far, while we are typing out each line of code that needs to be run. What if we need to type the same thing more than once? We can use a loop to help us! \n\nLoops are a way to run the same code over, and over until we tell the program to stop. We have a lot of different loops. \n\n- You can run a loop a certain amount of times\n- You can run a loop for a certain amount of time (seconds, minutes, hours)\n- You can run a loop while you wait for something else to happen (exiting a game)\n- You can run a loop when something happens (start a loop if you move to another level)\n\nThere are a ton of options! \n\nFor this course we will focus on two types of loops. A **for** and **while** loop. \n\nA for loop can be used, when you want something to happen FOR a specific amount of time. \n"
    },
    {
      "metadata": {
        "trusted": true
      },
      "cell_type": "code",
      "source": "#Hit Shift + Enter to run the code below \nprint (\"hello\")\nprint (\"hello\")\nprint (\"hello\")\nprint (\"hello\")\nprint (\"hello\")\n",
      "execution_count": null,
      "outputs": []
    },
    {
      "metadata": {
        "collapsed": true
      },
      "cell_type": "markdown",
      "source": "In the above code, I typed out that \"hello\" five times. Instead, I could use a for loop to print it five times and not have to type print(\"hello\") each time: \n\nfor i in range (5): \n    print(\"hello\")\n    \nIn the above example we say use the letter i. You can use any letter, as it is a a variable that is counting the number of times something is happening, in the above example 5 times. You can think of it collecting tally marks for how many times something happens\n\nEssentially, the program runs the coode, print \"hello\", and it will check the counter to make sure it is only running the code for the amount programmed. If not, it repeats the loop again. "
    },
    {
      "metadata": {
        "scrolled": true,
        "trusted": true
      },
      "cell_type": "code",
      "source": "# Hit Shift + Enter to run the code \n\nfor i in range (5): \n    print(\"hello\")",
      "execution_count": null,
      "outputs": []
    },
    {
      "metadata": {
        "trusted": true
      },
      "cell_type": "code",
      "source": "# Can you change the code so it prints hellow 10 times? What about 20? Try it out \n\nfor in in range (5): \n    print(\"hello\")",
      "execution_count": null,
      "outputs": []
    },
    {
      "metadata": {},
      "cell_type": "markdown",
      "source": "Another type of loop is called a while loop. A while loop will run code until you wait for something else to happen. \n\nFor example, say you created a game. In the game, when you collect a flower you get points. The max number of points you can have is 20, so once you reach 20 you can no longer collect flowers. \n\nFirst we need to create a way to store our point information. Let's create a \"totalPoints\" varaible to hold our points\n\ntotalPoints = 16\n\nNext, we creaate our while loop. While we have less than or equal to 20 points, we want to print our total points to the screen. Each time we print our points we want to show the points are adding up by 1. If less than or equal to 20 keep printing! \n\nwhile totalPoints <= 20: \n    print(totalPoints)\n    totalPoints = totalPoints + 1"
    },
    {
      "metadata": {
        "trusted": true
      },
      "cell_type": "code",
      "source": "#Hit Shift + Enter to run the code to see what happens with the while loop \n\ntotalPoints = 16\n\nwhile totalPoints <= 20: \n    print(totalPoints)\n    totalPoints = totalPoints + 1",
      "execution_count": null,
      "outputs": []
    },
    {
      "metadata": {
        "trusted": true
      },
      "cell_type": "code",
      "source": "#Can you change the code below to different number? What about if you use < rather than <=? What happens? Try it out!\n\npoints = 16\n\nwhile points <= 20: \n    print(points)\n    points = points + 1",
      "execution_count": null,
      "outputs": []
    },
    {
      "metadata": {},
      "cell_type": "markdown",
      "source": "We can also create while loops that wait for user input. For example, say we want a program to say \"cats are awesome\" until the user tells them to stop. \n\nTo do this, we will do something similar to the other while loop. \n\nFirst, we need to create a variable that will hold the user's answer and get input\n\n**response = input(\"Do you want me to talk about cats (y/n)?\")**\n\nNow, we can create our main while loop. For this, we want something to happen while we wait for the n (no) response \n\n**while response != \"n\": **\n\n   ** print(\"CATS ARE AWESOME!!!!\")**\n    \n   ** response = input(\"Do you want me to talk about cats (y/n)?\")**\n    \nWe added the same response variable at the end of the while loop as we want the program to keep asking the user until we tell them to stop!"
    },
    {
      "metadata": {
        "trusted": true
      },
      "cell_type": "code",
      "source": "#Hit Shift + Enter to run the code \n\nresponse = input(\"Do you want me to talk about cats (y/n)?\")\n\nwhile response != \"n\": \n    print(\"CATS ARE AWESOME!!!!\")\n    response = input(\"Do you want me to talk about cats (y/n)?\")",
      "execution_count": null,
      "outputs": []
    },
    {
      "metadata": {
        "trusted": true
      },
      "cell_type": "code",
      "source": "#Can you create your own while loop? What question would you ask? What kind of response would you want back?\n#Use the space below to code your own while loop\n\n",
      "execution_count": null,
      "outputs": []
    }
  ],
  "metadata": {
    "kernelspec": {
      "name": "python3",
      "display_name": "Python 3",
      "language": "python"
    },
    "language_info": {
      "mimetype": "text/x-python",
      "nbconvert_exporter": "python",
      "name": "python",
      "file_extension": ".py",
      "version": "3.5.4",
      "pygments_lexer": "ipython3",
      "codemirror_mode": {
        "version": 3,
        "name": "ipython"
      }
    }
  },
  "nbformat": 4,
  "nbformat_minor": 2
}