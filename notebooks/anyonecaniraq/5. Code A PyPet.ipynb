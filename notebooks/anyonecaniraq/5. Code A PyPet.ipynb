{
  "cells": [
    {
      "metadata": {},
      "cell_type": "markdown",
      "source": "# Lesson 5 \n# Code a PyPet \n\nHave you ever wanted a pet? Maybe you have a cat or dog already, but do you have a virtual one? Today we are going to code our own PyPet or Python Pet! \n\nTo make our cute pet we will use variables and ASCII art to make it come to life! \n\nFor this example we will code all of our variables and then at the end we will display it! You can decide what type of pet you want so feel free to type your own information in! \n\nWe will use ASCII art to visualize our pet. ASCII art is created by using the letters, numbers, and other characters on the keyboard. \n\nBelow are some of the pets you could code: \n\ncat: (=^o.o^=)__\n\nmouse: <:3 )---\n\nfish: <`)))><\n\ndog: (U .x. U)"
    },
    {
      "metadata": {
        "trusted": true
      },
      "cell_type": "code",
      "source": "petType =\" \"    # What type of pet you have\nname = \" \"      # Type the name of your pet\nage =           # How old is your pet\nweight =        # How much does your pet weigh \nhungry =        # True or False, is your pet hungry? \nphoto = \" \"     # What does your pet look like? You can use ASCII art to recreate this \nsound = \" \"     # What sounds does your pet make",
      "execution_count": null,
      "outputs": []
    },
    {
      "metadata": {},
      "cell_type": "markdown",
      "source": "Now we want to see our PyPet! To do this, we will use the print command to see our pet and see how it is!"
    },
    {
      "metadata": {
        "trusted": true
      },
      "cell_type": "code",
      "source": "# Hit Shift + Enter to run the code below\n\nprint(\"Say hello to your PyPet \" + petType)\nprint(photo)\nprint()\nprint(name +\" loves to make a \" +sound + \" sound all the time\")\nprint()\nprint(name + \" is \" , age ,\"yeasrs old\")\n",
      "execution_count": null,
      "outputs": []
    },
    {
      "metadata": {},
      "cell_type": "markdown",
      "source": "We can see our pet, some information on it, and a picture of it! Can you print more sentences to display the information on your pet? \n\n**Reminder:** When you are combining string and numbers together. \n\nFor each string variable or quote you add you will use a **`+`** (plus sign) to include it. \n\nFor every integer you add you will need to use a **`,`** (comma) to include it. "
    },
    {
      "metadata": {
        "trusted": true
      },
      "cell_type": "code",
      "source": "",
      "execution_count": null,
      "outputs": []
    }
  ],
  "metadata": {
    "kernelspec": {
      "name": "python3",
      "display_name": "Python 3",
      "language": "python"
    },
    "language_info": {
      "mimetype": "text/x-python",
      "nbconvert_exporter": "python",
      "name": "python",
      "pygments_lexer": "ipython3",
      "version": "3.5.4",
      "file_extension": ".py",
      "codemirror_mode": {
        "version": 3,
        "name": "ipython"
      }
    }
  },
  "nbformat": 4,
  "nbformat_minor": 2
}