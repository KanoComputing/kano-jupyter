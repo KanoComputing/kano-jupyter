{
  "cells": [
    {
      "metadata": {},
      "cell_type": "markdown",
      "source": "# Lesson 1\n# Welcome!\n\nWelcome to the magical world of Python programming!\n\nClick on the code below and press SHIFT+ENTER to run it!"
    },
    {
      "metadata": {
        "trusted": true
      },
      "cell_type": "code",
      "source": "print(\"Hello World\")",
      "execution_count": null,
      "outputs": []
    },
    {
      "metadata": {},
      "cell_type": "markdown",
      "source": "Nice work! You made the code run, right here in the project page.\n\nWe can do lots of cool stuff with Python. Click the code and press SHIFT+ENTER to run it!"
    },
    {
      "metadata": {
        "trusted": true
      },
      "cell_type": "code",
      "source": "print(\"Hello \" * 50)",
      "execution_count": null,
      "outputs": []
    },
    {
      "metadata": {},
      "cell_type": "markdown",
      "source": "Great job great job great job great job great job!"
    },
    {
      "metadata": {},
      "cell_type": "markdown",
      "source": "## Try Your Own Python Below!\n\nType your own Python! Any valid Python should work here."
    },
    {
      "metadata": {
        "trusted": true
      },
      "cell_type": "code",
      "source": "# Type Your Code In This box\n# Then press SHIFT+ENTER to run it!\n\n\n\n",
      "execution_count": null,
      "outputs": []
    }
  ],
  "metadata": {
    "kernelspec": {
      "name": "python3",
      "display_name": "Python 3",
      "language": "python"
    },
    "language_info": {
      "mimetype": "text/x-python",
      "nbconvert_exporter": "python",
      "name": "python",
      "pygments_lexer": "ipython3",
      "version": "3.5.4",
      "file_extension": ".py",
      "codemirror_mode": {
        "version": 3,
        "name": "ipython"
      }
    }
  },
  "nbformat": 4,
  "nbformat_minor": 2
}