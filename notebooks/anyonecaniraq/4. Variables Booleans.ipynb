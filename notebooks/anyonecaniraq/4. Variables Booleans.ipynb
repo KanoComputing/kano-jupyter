{
  "cells": [
    {
      "metadata": {},
      "cell_type": "markdown",
      "source": "# Lesson 4\n# Variables: Booleans\n\nAs we have seen, variables can hold a lot of different information. \n\nAnother thing they can store is to see if something is **true or false.** \n\nThis is very important for computers. Many times when you use a computer it is checking to see if something is true or false. \n\nLet's use the example of a game. Say your player has low energy and needs food to get energy back. You may check what items you have. \n\nIf you **have food**, your computer will report back to you that you having food is **TRUE**, you can feed the player and continue the game.\n\nIf you **DO NOT have food**, your computer will report back to you that you having food is **FALSE**, you can not feed your player and you must take a rest to regain energy\n\nLet's look at a basicexample below. We are going to print some code and ask the conputer questions with code:\n\n**`.islower()`** will let us know if the letters in a word are lowercase\n\n**`.isupper()`** will let us know if the letters in a word are uppercase"
    },
    {
      "metadata": {
        "trusted": true
      },
      "cell_type": "code",
      "source": "# Hit Shift + Enter to run the code below\n\nprint(\"save\".islower())\nprint(\"SAVE\".isupper())",
      "execution_count": null,
      "outputs": []
    },
    {
      "metadata": {
        "trusted": true
      },
      "cell_type": "code",
      "source": "#Type your own code and try out your own words to see if they are True or False for lower/upper case! \n\n\n",
      "execution_count": null,
      "outputs": []
    },
    {
      "metadata": {},
      "cell_type": "markdown",
      "source": "We can play with one more piece of code that will return a True or False statement for us. This code **`.startswith()`**. \n\nThis code will let us know if a string starts with a specific letter. "
    },
    {
      "metadata": {
        "trusted": true
      },
      "cell_type": "code",
      "source": "# Hit Shift + Enter to run the code below \n\"Boolean\" .startswith(\"B\")\n",
      "execution_count": null,
      "outputs": []
    },
    {
      "metadata": {},
      "cell_type": "markdown",
      "source": "**Your Turn**\nGo back through the examples and try changing the words to see what you get back as a true/false statement!\n\n\n*Want to explore on your own?*\nTry the below commands with other words "
    }
  ],
  "metadata": {
    "kernelspec": {
      "name": "python3",
      "display_name": "Python 3",
      "language": "python"
    },
    "language_info": {
      "mimetype": "text/x-python",
      "nbconvert_exporter": "python",
      "name": "python",
      "pygments_lexer": "ipython3",
      "version": "3.5.4",
      "file_extension": ".py",
      "codemirror_mode": {
        "version": 3,
        "name": "ipython"
      }
    }
  },
  "nbformat": 4,
  "nbformat_minor": 2
}