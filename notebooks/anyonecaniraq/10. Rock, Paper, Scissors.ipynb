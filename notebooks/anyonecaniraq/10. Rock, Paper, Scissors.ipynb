{
  "cells": [
    {
      "metadata": {},
      "cell_type": "markdown",
      "source": "# Lesson 10 \n# Rock, Paper, Scissors Game \n\nWe will be turning the classic game into a computer simulated one! To create this game you will need to: \n\n1. Create a list of choices \n2. Create if, elif, and else statements to determine HOW to win\n3. Create a way to get user input to play the game\n\nAs a reminder, when you play rock, paper, scissors, there are very specific ways to win. \n\nRock crushes scissors. Scissors cut paper. Paper covers rock. If you have the same thing (rock and rock) it is a tie! \n\nBelow, you will have some completed code for one of the above scenarios (if the player picks rock). You will have to code the two other scenarios (paper and scissors). "
    },
    {
      "metadata": {
        "trusted": true
      },
      "cell_type": "code",
      "source": "#We will need the computer to pick a random choice, so we need to import the random program\nimport random ",
      "execution_count": null,
      "outputs": []
    },
    {
      "metadata": {},
      "cell_type": "markdown",
      "source": "Below we will create a variable called **`choices`**. For a basic rock, paper, scissors game we only need three choices"
    },
    {
      "metadata": {
        "trusted": true
      },
      "cell_type": "code",
      "source": "choices = [\"rock\", \"paper\", \"scissors\"]",
      "execution_count": null,
      "outputs": []
    },
    {
      "metadata": {},
      "cell_type": "markdown",
      "source": "Below is the instructions for playing the game and then our main game loop. \n\nIn the code, you will see the if, elif, and else statements used to help the program determine who wins if the player picks \"rock.\" You will need to work out the other scenarios. "
    },
    {
      "metadata": {
        "trusted": true
      },
      "cell_type": "code",
      "source": "#This statement will provide any instructions the player needs\nprint(\"Rock crushes scissors. Scissors cut paper. Paper covers rock.\")\n\n#A variable called player is created that will hold the input from the player. It is a string \nplayer = str(input(\"Do you want to be rock, paper, scissors, or quite?\"))\n\n#The main game loop \nwhile player != \"quite\":       # Keep playing until the player quites \n    player = player.lower()    # Change the player's entry to lowercase\n    computer = random.choice(choices)   # Computer randomly picks an item from choice variable\n    print(\"You chose \" + player + \", and the computer chose \" + computer + \".\")\n    if player == computer:     #If the player and the computer have the same choice\n        print (\"It's a tie!\")\n    elif player == \"rock\":     #if the player selects rock \n        if computer ==\"scissors\":\n            print(\"You win!\")\n        else:\n            print(\"Computer wins!\")\n            \n    # USE THE SPACE BELOW TO CODE FOR SCISSORS, PAPER, AND IF THE PLAYER TYPES THE WRONG THING \n    \n    \n    print()     #to create a space between the responses\n    \n    #Once the program evaluates who wins a round, it will ask if you still want to play\n    player=input(\"Do you want to be rock, paper, scissors, or quite?\")",
      "execution_count": null,
      "outputs": []
    },
    {
      "metadata": {
        "collapsed": true
      },
      "cell_type": "markdown",
      "source": "Now that you programmed the basic game, can you make it more complicated? \n\nCan you create a game that uses 5 choices instead of 3? Who would beat who and how? "
    }
  ],
  "metadata": {
    "kernelspec": {
      "name": "python3",
      "display_name": "Python 3",
      "language": "python"
    },
    "language_info": {
      "mimetype": "text/x-python",
      "nbconvert_exporter": "python",
      "name": "python",
      "file_extension": ".py",
      "version": "3.5.4",
      "pygments_lexer": "ipython3",
      "codemirror_mode": {
        "version": 3,
        "name": "ipython"
      }
    }
  },
  "nbformat": 4,
  "nbformat_minor": 2
}