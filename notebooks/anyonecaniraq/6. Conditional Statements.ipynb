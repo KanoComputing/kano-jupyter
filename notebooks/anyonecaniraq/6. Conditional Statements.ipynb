{
  "cells": [
    {
      "metadata": {},
      "cell_type": "markdown",
      "source": "# Lesson 6 \n# Conditional Statements \nPrograms can do pretty complicated tasks, and many times they do this with conditional statements. \n\nConditional statements are pieces of code that ask \"if, else if, and else\" questions to decide if another set of code should be used. These questions are answered by doing comparisons (<, >, <=, >=, ==. !=)\n\nThese comparisons are the following: \n\n`>   greater than `\n\n`<   less than `\n\n`>=  greater than or equal to `\n\n`<=  less than or equal to `\n\n`==  equal `\n\n`!=  not equal `\n\n\nFor example: you walk into a room and need to decide if the lights are off and you need to turn them on. \n\n**if** the lights are off when you enter a room, **turn them on**\n\n**else**, walk into the room with the lights already on \n\nIn the above example we are checking to see if **lights on** is true or false \n\nIf lights equal (==) off, turn them on \n\nIf lights do not equal (!= )off. walk into the room "
    },
    {
      "metadata": {
        "trusted": true
      },
      "cell_type": "code",
      "source": "# We can code some other examples. If hot_tea is True, it will print something, if false will print something else. \n\n#Hit Shift and Enter to the code below with hot_tea as True. After, change it to False and run the code again \n\nhot_tea = True \n\nif hot_tea:\n    print(\"enjoy some hot tea!\")\n    \nelse: \n    print(\"enjoy some tea, and perhaps try hot tea next time\")",
      "execution_count": null,
      "outputs": []
    },
    {
      "metadata": {
        "trusted": true
      },
      "cell_type": "code",
      "source": "# Sometimes when we code, we want to only do something if True, but if False, then do nothing\n\nsomeone_i_know = False\n\nif someone_i_know: \n    print(\"how have you been?\")\nelse: \n    pass",
      "execution_count": null,
      "outputs": []
    },
    {
      "metadata": {
        "trusted": true
      },
      "cell_type": "code",
      "source": "sunny_today = True \n\n# Below test if it is sunny_today and give a proper responses using if and else ",
      "execution_count": null,
      "outputs": []
    },
    {
      "metadata": {
        "trusted": true
      },
      "cell_type": "code",
      "source": "sunny_today = False\n\n# Use the code you created above and test sunny_today = False ",
      "execution_count": null,
      "outputs": []
    }
  ],
  "metadata": {
    "kernelspec": {
      "name": "python3",
      "display_name": "Python 3",
      "language": "python"
    },
    "language_info": {
      "mimetype": "text/x-python",
      "nbconvert_exporter": "python",
      "name": "python",
      "pygments_lexer": "ipython3",
      "version": "3.5.4",
      "file_extension": ".py",
      "codemirror_mode": {
        "version": 3,
        "name": "ipython"
      }
    }
  },
  "nbformat": 4,
  "nbformat_minor": 2
}